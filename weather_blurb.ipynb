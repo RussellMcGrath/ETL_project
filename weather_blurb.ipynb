{
 "cells": [
  {
   "cell_type": "markdown",
   "metadata": {},
   "source": [
    "# FILE 2 of 4"
   ]
  },
  {
   "cell_type": "markdown",
   "metadata": {},
   "source": [
    "# Scrape weather summary information from website"
   ]
  },
  {
   "cell_type": "code",
   "execution_count": null,
   "metadata": {},
   "outputs": [],
   "source": [
    "from bs4 import BeautifulSoup as bs\n",
    "from splinter import Browser\n",
    "import requests\n",
    "import time"
   ]
  },
  {
   "cell_type": "markdown",
   "metadata": {},
   "source": [
    "## Import cities list generated form API query in other file"
   ]
  },
  {
   "cell_type": "code",
   "execution_count": null,
   "metadata": {},
   "outputs": [],
   "source": [
    "from jobs import cities_list"
   ]
  },
  {
   "cell_type": "markdown",
   "metadata": {},
   "source": [
    "## Scraping procedure"
   ]
  },
  {
   "cell_type": "code",
   "execution_count": 2,
   "metadata": {},
   "outputs": [],
   "source": [
    "#initialize driver\n",
    "executable_path = {'executable_path': 'chromedriver.exe'}\n",
    "browser = Browser('chrome', **executable_path, headless=True)"
   ]
  },
  {
   "cell_type": "code",
   "execution_count": 3,
   "metadata": {},
   "outputs": [
    {
     "name": "stdout",
     "output_type": "stream",
     "text": [
      "San Jose\n",
      "Seymour\n",
      "West Nyack\n",
      "Philadelphia\n",
      "Boulder\n",
      "Costa Mesa\n",
      "US San Francisco\n",
      "Davis\n",
      "Prairie du Sac\n",
      "Mankato\n",
      "Fresno\n",
      "Fresno\n",
      "Fort Lauderdale\n",
      "DONE\n"
     ]
    }
   ],
   "source": [
    "#define source url\n",
    "url=\"https://weatherspark.com\"\n",
    "\n",
    "#initialize list to hold resutls\n",
    "weather_list = []\n",
    "\n",
    "#visit url in automated browser\n",
    "browser.visit(url)\n",
    "\n",
    "#for each city in the list, search website for weather summary\n",
    "for city in cities_list:\n",
    "    #find search bar and enter city name and hit return\n",
    "    browser.find_by_tag('input').fill(f\"{city}\\n\")\n",
    "    time.sleep(1)\n",
    "\n",
    "    #parse html code from resulting site\n",
    "    response = requests.get(browser.url)\n",
    "    soup = bs(response.text,\"html.parser\")\n",
    "    \n",
    "    #find the weather summary on the page and store it\n",
    "    blurb = soup.find(\"div\",class_=\"Section-body\").find('p').text\n",
    "    #clean up the string\n",
    "    blurb = blurb.replace(\"\\n\",\"\")\n",
    "    blurb = blurb.replace(\"Â\",\"\")\n",
    "    \n",
    "    #store results as dictionary\n",
    "    blurb_dict = {\"city\":f\"{city}\",\n",
    "                 \"weather\":f\"{blurb}\"}\n",
    "    #add dictionary to list of resutls\n",
    "    weather_list.append(blurb_dict)\n",
    "    print(city)\n",
    "    \n",
    "print(\"DONE\")"
   ]
  },
  {
   "cell_type": "code",
   "execution_count": 4,
   "metadata": {},
   "outputs": [
    {
     "data": {
      "text/plain": [
       "[{'city': 'San Jose',\n",
       "  'weather': 'In San Jose, the summers are long, warm, arid, and mostly clear and the winters are short, cold, wet, and partly cloudy. Over the course of the year, the temperature typically varies from 43°F to 82°F and is rarely below 35°F or above 92°F.'},\n",
       " {'city': 'Seymour',\n",
       "  'weather': 'In Seymour, the summers are long, warm, and humid; the winters are very cold; and it is wet and partly cloudy year round. Over the course of the year, the temperature typically varies from 24°F to 86°F and is rarely below 7°F or above 93°F.'},\n",
       " {'city': 'West Nyack',\n",
       "  'weather': 'In West Nyack, the summers are warm, humid, and wet; the winters are very cold; and it is partly cloudy year round. Over the course of the year, the temperature typically varies from 23°F to 84°F and is rarely below 8°F or above 92°F.'},\n",
       " {'city': 'Philadelphia',\n",
       "  'weather': 'In Philadelphia, the summers are warm and humid, the winters are very cold, and it is wet and partly cloudy year round. Over the course of the year, the temperature typically varies from 26°F to 87°F and is rarely below 13°F or above 94°F.'},\n",
       " {'city': 'Boulder',\n",
       "  'weather': 'In Boulder, the summers are warm; the winters are very cold, dry, and windy; and it is partly cloudy year round. Over the course of the year, the temperature typically varies from 22°F to 87°F and is rarely below 6°F or above 95°F.'},\n",
       " {'city': 'Costa Mesa',\n",
       "  'weather': 'In Costa Mesa, the summers are short, warm, arid, and clear and the winters are long, cool, and partly cloudy. Over the course of the year, the temperature typically varies from 48°F to 79°F and is rarely below 41°F or above 87°F.'},\n",
       " {'city': 'US San Francisco',\n",
       "  'weather': 'In San Francisco, the summers are long, comfortable, arid, and mostly clear and the winters are short, cold, wet, and partly cloudy. Over the course of the year, the temperature typically varies from 45°F to 72°F and is rarely below 39°F or above 83°F.'},\n",
       " {'city': 'Davis',\n",
       "  'weather': 'In Davis, the summers are hot, arid, and mostly clear and the winters are short, cold, wet, and partly cloudy. Over the course of the year, the temperature typically varies from 39°F to 93°F and is rarely below 31°F or above 102°F.'},\n",
       " {'city': 'Prairie du Sac',\n",
       "  'weather': 'In Prairie du Sac, the summers are long, warm, and wet; the winters are freezing, dry, and windy; and it is partly cloudy year round. Over the course of the year, the temperature typically varies from 12°F to 83°F and is rarely below -8°F or above 90°F.'},\n",
       " {'city': 'Mankato',\n",
       "  'weather': 'In Mankato, the summers are long, warm, and wet; the winters are freezing, snowy, and windy; and it is partly cloudy year round. Over the course of the year, the temperature typically varies from 9°F to 83°F and is rarely below -11°F or above 91°F.'},\n",
       " {'city': 'Fresno',\n",
       "  'weather': 'In Fresno, the summers are sweltering, arid, and clear and the winters are cold, wet, and partly cloudy. Over the course of the year, the temperature typically varies from 39°F to 99°F and is rarely below 31°F or above 106°F.'},\n",
       " {'city': 'Fresno',\n",
       "  'weather': 'In Fresno, the summers are sweltering, arid, and clear and the winters are cold, wet, and partly cloudy. Over the course of the year, the temperature typically varies from 39°F to 99°F and is rarely below 31°F or above 106°F.'},\n",
       " {'city': 'Fort Lauderdale',\n",
       "  'weather': 'In Fort Lauderdale, the summers are long, hot, oppressive, wet, and mostly cloudy and the winters are short, comfortable, humid, windy, and mostly clear. Over the course of the year, the temperature typically varies from 61°F to 89°F and is rarely below 47°F or above 92°F.'}]"
      ]
     },
     "execution_count": 4,
     "metadata": {},
     "output_type": "execute_result"
    }
   ],
   "source": [
    "weather_list\n",
    "    "
   ]
  }
 ],
 "metadata": {
  "kernelspec": {
   "display_name": "Python 3",
   "language": "python",
   "name": "python3"
  },
  "language_info": {
   "codemirror_mode": {
    "name": "ipython",
    "version": 3
   },
   "file_extension": ".py",
   "mimetype": "text/x-python",
   "name": "python",
   "nbconvert_exporter": "python",
   "pygments_lexer": "ipython3",
   "version": "3.8.5"
  }
 },
 "nbformat": 4,
 "nbformat_minor": 4
}
